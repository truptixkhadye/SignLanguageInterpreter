{
 "cells": [
  {
   "cell_type": "code",
   "execution_count": 1,
   "id": "fdc63fa3",
   "metadata": {
    "scrolled": true
   },
   "outputs": [],
   "source": [
    "import cv2\n",
    "import numpy as np\n",
    "import os\n",
    "from matplotlib import pyplot as plt\n",
    "import time\n",
    "import mediapipe as mp\n",
    "import tensorflow as tf\n",
    "\n"
   ]
  },
  {
   "cell_type": "markdown",
   "id": "0d12620f",
   "metadata": {},
   "source": [
    "## Keypoints using MP Holistic"
   ]
  },
  {
   "cell_type": "code",
   "execution_count": 2,
   "id": "ab2d8af3",
   "metadata": {},
   "outputs": [],
   "source": [
    "mp_holistic = mp.solutions.holistic #Holistic model\n",
    "mp_drawing = mp.solutions.drawing_utils #Drawing utilies"
   ]
  },
  {
   "cell_type": "code",
   "execution_count": 3,
   "id": "2c2221ba",
   "metadata": {},
   "outputs": [],
   "source": [
    "def mediapipe_detection(image, model):\n",
    "    image = cv2.cvtColor(image, cv2.COLOR_BGR2RGB) # COLOR CONVERSION BGR 2 RGB\n",
    "    image.flags.writeable = False                  # Image is no longer writeable \n",
    "    results = model.process(image)                 # Make prediction\n",
    "    image.flags.writeable = True                   # Image is now writeable      \n",
    "    image = cv2.cvtColor(image, cv2.COLOR_RGB2BGR) # COLOR CONVERSION RGB 2 BGR\n",
    "    return image, results"
   ]
  },
  {
   "cell_type": "code",
   "execution_count": 4,
   "id": "a8d3314e",
   "metadata": {},
   "outputs": [],
   "source": [
    "#from mediapipe.python.solutions.face_mesh_connections import FACEMESH_TESSELATION\n",
    "#from mediapipe.python.solutions.hands_connections import HAND_CONNECTIONS\n",
    "#from mediapipe.python.solutions.pose_connections import POSE_CONNECTIONS"
   ]
  },
  {
   "cell_type": "code",
   "execution_count": 5,
   "id": "de9243c0",
   "metadata": {},
   "outputs": [],
   "source": [
    "def draw_landmarks(image, results):\n",
    "    mp_drawing.draw_landmarks(image, results.face_landmarks, mp_holistic.FACEMESH_TESSELATION)\n",
    "    mp_drawing.draw_landmarks(image, results.pose_landmarks, mp_holistic.POSE_CONNECTIONS)\n",
    "    mp_drawing.draw_landmarks(image, results.left_hand_landmarks, mp_holistic.HAND_CONNECTIONS)\n",
    "    mp_drawing.draw_landmarks(image, results.right_hand_landmarks, mp_holistic.HAND_CONNECTIONS)   "
   ]
  },
  {
   "cell_type": "code",
   "execution_count": 6,
   "id": "893d02fa",
   "metadata": {},
   "outputs": [],
   "source": [
    "def draw_styled_landmarks(image, results):\n",
    "    mp_drawing.draw_landmarks(image, results.face_landmarks, mp_holistic.FACEMESH_TESSELATION,\n",
    "                             mp_drawing.DrawingSpec(color=(80,110,10), thickness = 1, circle_radius = 1),\n",
    "                             mp_drawing.DrawingSpec(color=(256,256,256), thickness = 1, circle_radius = 1))\n",
    "    mp_drawing.draw_landmarks(image, results.pose_landmarks, mp_holistic.POSE_CONNECTIONS,\n",
    "                             mp_drawing.DrawingSpec(color=(121,44,250), thickness = 2, circle_radius = 4),\n",
    "                             mp_drawing.DrawingSpec(color=(121,44,250), thickness = 2, circle_radius = 2))\n",
    "    mp_drawing.draw_landmarks(image, results.left_hand_landmarks, mp_holistic.HAND_CONNECTIONS,\n",
    "                             mp_drawing.DrawingSpec(color=(121,44,250), thickness = 2, circle_radius = 4),\n",
    "                             mp_drawing.DrawingSpec(color=(121,44,250), thickness = 2, circle_radius = 2))\n",
    "    mp_drawing.draw_landmarks(image, results.right_hand_landmarks, mp_holistic.HAND_CONNECTIONS,\n",
    "                             mp_drawing.DrawingSpec(color=(121,44,250), thickness = 2, circle_radius = 4),\n",
    "                             mp_drawing.DrawingSpec(color=(121,44,250), thickness = 2, circle_radius = 2))\n"
   ]
  },
  {
   "cell_type": "code",
   "execution_count": 7,
   "id": "63c6cd1e",
   "metadata": {},
   "outputs": [],
   "source": [
    "def extract_keypoints(results):\n",
    "    pose = np.array([[res.x, res.y, res.z, res.visibility] for res in results.pose_landmarks.landmark]).flatten() if results.pose_landmarks else np.zeros(33*4)\n",
    "    face = np.array([[res.x, res.y, res.z] for res in results.face_landmarks.landmark]).flatten() if results.face_landmarks else np.zeros(468*3)\n",
    "    lh = np.array([[res.x, res.y, res.z] for res in results.left_hand_landmarks.landmark]).flatten() if results.left_hand_landmarks else np.zeros(21*3)\n",
    "    rh = np.array([[res.x, res.y, res.z] for res in results.right_hand_landmarks.landmark]).flatten() if results.right_hand_landmarks else np.zeros(21*3)\n",
    "    return np.concatenate([pose, face, lh, rh])"
   ]
  },
  {
   "cell_type": "markdown",
   "id": "acb28956",
   "metadata": {},
   "source": [
    "### Preprocess Data and Create Labels and Features"
   ]
  },
  {
   "cell_type": "code",
   "execution_count": 9,
   "id": "aa6d6f96",
   "metadata": {},
   "outputs": [],
   "source": [
    "from sklearn.model_selection import train_test_split\n",
    "from tensorflow.keras.utils import to_categorical"
   ]
  },
  {
   "cell_type": "code",
   "execution_count": 10,
   "id": "a30d2f8c",
   "metadata": {},
   "outputs": [],
   "source": [
    "#demo_actions = np.array(['A', 'B', 'C', 'H', 'I'])"
   ]
  },
  {
   "cell_type": "code",
   "execution_count": 11,
   "id": "b6db5beb",
   "metadata": {},
   "outputs": [],
   "source": [
    "actions = np.array(['A', 'B', 'C', 'D', 'E', 'F', 'G', 'H', 'I', 'J', 'K', 'L', 'M', 'N', 'O', 'P', 'Q', 'R', 'S', 'T', 'U', 'V', 'W', 'X', 'Y', 'Z'])"
   ]
  },
  {
   "cell_type": "code",
   "execution_count": 12,
   "id": "e93a6a9c",
   "metadata": {},
   "outputs": [],
   "source": [
    "#actions = np.array(['A', 'B', 'C'])"
   ]
  },
  {
   "cell_type": "code",
   "execution_count": 13,
   "id": "f6e92fe9",
   "metadata": {},
   "outputs": [
    {
     "data": {
      "text/plain": [
       "26"
      ]
     },
     "execution_count": 13,
     "metadata": {},
     "output_type": "execute_result"
    }
   ],
   "source": [
    "len(actions)"
   ]
  },
  {
   "cell_type": "code",
   "execution_count": 14,
   "id": "24112c07",
   "metadata": {},
   "outputs": [],
   "source": [
    "#label_map = {label: num for num, label in enumerate(demo_actions)}"
   ]
  },
  {
   "cell_type": "code",
   "execution_count": 15,
   "id": "98e07c4f",
   "metadata": {},
   "outputs": [],
   "source": [
    "label_map = {label: num for num, label in enumerate(actions)}"
   ]
  },
  {
   "cell_type": "code",
   "execution_count": 16,
   "id": "f44f8480",
   "metadata": {},
   "outputs": [
    {
     "data": {
      "text/plain": [
       "{'A': 0,\n",
       " 'B': 1,\n",
       " 'C': 2,\n",
       " 'D': 3,\n",
       " 'E': 4,\n",
       " 'F': 5,\n",
       " 'G': 6,\n",
       " 'H': 7,\n",
       " 'I': 8,\n",
       " 'J': 9,\n",
       " 'K': 10,\n",
       " 'L': 11,\n",
       " 'M': 12,\n",
       " 'N': 13,\n",
       " 'O': 14,\n",
       " 'P': 15,\n",
       " 'Q': 16,\n",
       " 'R': 17,\n",
       " 'S': 18,\n",
       " 'T': 19,\n",
       " 'U': 20,\n",
       " 'V': 21,\n",
       " 'W': 22,\n",
       " 'X': 23,\n",
       " 'Y': 24,\n",
       " 'Z': 25}"
      ]
     },
     "execution_count": 16,
     "metadata": {},
     "output_type": "execute_result"
    }
   ],
   "source": [
    "label_map"
   ]
  },
  {
   "cell_type": "code",
   "execution_count": 17,
   "id": "bb893475",
   "metadata": {},
   "outputs": [],
   "source": [
    "#DATA_PATH = os.path.join('DemoData')"
   ]
  },
  {
   "cell_type": "code",
   "execution_count": 18,
   "id": "dfdcf7bb",
   "metadata": {},
   "outputs": [],
   "source": [
    "DATA_PATH = os.path.join('Data')"
   ]
  },
  {
   "cell_type": "code",
   "execution_count": 19,
   "id": "5dedf870",
   "metadata": {},
   "outputs": [],
   "source": [
    "sequence_length = 30"
   ]
  },
  {
   "cell_type": "code",
   "execution_count": 20,
   "id": "2dd78d20",
   "metadata": {},
   "outputs": [
    {
     "data": {
      "text/plain": [
       "'\"sequences, labels = [], []\\nfor action in demo_actions:\\n    for sequence in np.array(os.listdir(os.path.join(DATA_PATH, action))).astype(int):\\n        window = []\\n        for frame_num in range(sequence_length):\\n            res = np.load(os.path.join(DATA_PATH, action, str(sequence), \"{}.npy\".format(frame_num)))\\n            window.append(res)\\n        sequences.append(window)\\n        labels.append(label_map[action])'"
      ]
     },
     "execution_count": 20,
     "metadata": {},
     "output_type": "execute_result"
    }
   ],
   "source": [
    "\"\"\"\"sequences, labels = [], []\n",
    "for action in demo_actions:\n",
    "    for sequence in np.array(os.listdir(os.path.join(DATA_PATH, action))).astype(int):\n",
    "        window = []\n",
    "        for frame_num in range(sequence_length):\n",
    "            res = np.load(os.path.join(DATA_PATH, action, str(sequence), \"{}.npy\".format(frame_num)))\n",
    "            window.append(res)\n",
    "        sequences.append(window)\n",
    "        labels.append(label_map[action])\"\"\""
   ]
  },
  {
   "cell_type": "code",
   "execution_count": 21,
   "id": "f61ebd73",
   "metadata": {},
   "outputs": [
    {
     "name": "stdout",
     "output_type": "stream",
     "text": [
      "Wall time: 16min 49s\n"
     ]
    }
   ],
   "source": [
    "%%time\n",
    "sequences, labels = [], []\n",
    "for action in actions:\n",
    "    for sequence in np.array(os.listdir(os.path.join(DATA_PATH, action))).astype(int):\n",
    "        window = []\n",
    "        for frame_num in range(sequence_length):\n",
    "            res = np.load(os.path.join(DATA_PATH, action, str(sequence), \"{}.npy\".format(frame_num)))\n",
    "            window.append(res)\n",
    "        sequences.append(window)\n",
    "        labels.append(label_map[action])"
   ]
  },
  {
   "cell_type": "code",
   "execution_count": 22,
   "id": "d55ca306",
   "metadata": {},
   "outputs": [
    {
     "data": {
      "text/plain": [
       "(1300, 30, 1662)"
      ]
     },
     "execution_count": 22,
     "metadata": {},
     "output_type": "execute_result"
    }
   ],
   "source": [
    "np.array(sequences).shape"
   ]
  },
  {
   "cell_type": "code",
   "execution_count": 23,
   "id": "a051ef8d",
   "metadata": {},
   "outputs": [
    {
     "data": {
      "text/plain": [
       "(1300,)"
      ]
     },
     "execution_count": 23,
     "metadata": {},
     "output_type": "execute_result"
    }
   ],
   "source": [
    "np.array(labels).shape"
   ]
  },
  {
   "cell_type": "code",
   "execution_count": 24,
   "id": "63ef0027",
   "metadata": {},
   "outputs": [],
   "source": [
    "X = np.array(sequences)"
   ]
  },
  {
   "cell_type": "code",
   "execution_count": 25,
   "id": "59b0415f",
   "metadata": {},
   "outputs": [
    {
     "data": {
      "text/plain": [
       "(1300, 30, 1662)"
      ]
     },
     "execution_count": 25,
     "metadata": {},
     "output_type": "execute_result"
    }
   ],
   "source": [
    "X.shape"
   ]
  },
  {
   "cell_type": "code",
   "execution_count": 26,
   "id": "34bc4bf1",
   "metadata": {},
   "outputs": [],
   "source": [
    "y = to_categorical(labels).astype(int)"
   ]
  },
  {
   "cell_type": "code",
   "execution_count": 27,
   "id": "416da403",
   "metadata": {
    "scrolled": true
   },
   "outputs": [],
   "source": [
    "X_train, X_test, y_train, y_test = train_test_split(X, y, test_size= 0.10, random_state = 42)"
   ]
  },
  {
   "cell_type": "code",
   "execution_count": 28,
   "id": "84f3b542",
   "metadata": {},
   "outputs": [
    {
     "data": {
      "text/plain": [
       "(130, 26)"
      ]
     },
     "execution_count": 28,
     "metadata": {},
     "output_type": "execute_result"
    }
   ],
   "source": [
    "y_test.shape"
   ]
  },
  {
   "cell_type": "markdown",
   "id": "4ffcf643",
   "metadata": {},
   "source": [
    "## Build and Train LSTM Neural Network"
   ]
  },
  {
   "cell_type": "code",
   "execution_count": 29,
   "id": "179622a5",
   "metadata": {},
   "outputs": [],
   "source": [
    "from tensorflow.keras.models import Sequential\n",
    "from tensorflow.keras.callbacks import TensorBoard\n",
    "from tensorflow.keras.layers import LSTM, Dense, Dropout"
   ]
  },
  {
   "cell_type": "code",
   "execution_count": 60,
   "id": "55d221d2",
   "metadata": {},
   "outputs": [],
   "source": [
    "log_dir = os.path.join('logss')\n",
    "tb_callback = TensorBoard(log_dir=log_dir)"
   ]
  },
  {
   "cell_type": "code",
   "execution_count": 30,
   "id": "4f8539ea",
   "metadata": {},
   "outputs": [
    {
     "name": "stdout",
     "output_type": "stream",
     "text": [
      "Model: \"sequential\"\n",
      "_________________________________________________________________\n",
      "Layer (type)                 Output Shape              Param #   \n",
      "=================================================================\n",
      "lstm (LSTM)                  (None, 30, 128)           916992    \n",
      "_________________________________________________________________\n",
      "dropout (Dropout)            (None, 30, 128)           0         \n",
      "_________________________________________________________________\n",
      "lstm_1 (LSTM)                (None, 128)               131584    \n",
      "_________________________________________________________________\n",
      "dropout_1 (Dropout)          (None, 128)               0         \n",
      "_________________________________________________________________\n",
      "dense (Dense)                (None, 32)                4128      \n",
      "_________________________________________________________________\n",
      "dropout_2 (Dropout)          (None, 32)                0         \n",
      "_________________________________________________________________\n",
      "dense_1 (Dense)              (None, 26)                858       \n",
      "=================================================================\n",
      "Total params: 1,053,562\n",
      "Trainable params: 1,053,562\n",
      "Non-trainable params: 0\n",
      "_________________________________________________________________\n",
      "None\n"
     ]
    }
   ],
   "source": [
    "model02=Sequential()\n",
    "model02.add(LSTM(128,activation='relu',return_sequences=True, input_shape=(30,1662)))\n",
    "model02.add(Dropout(0.2))\n",
    "model02.add(LSTM(128, return_sequences=False, activation='relu'))\n",
    "model02.add(Dropout(0.2))\n",
    "model02.add(Dense(32, activation='relu'))\n",
    "model02.add(Dropout(0.2))\n",
    "model02.add(Dense(actions.shape[0], activation='softmax'))\n",
    "model02.compile(loss='categorical_crossentropy',optimizer='adam',metrics=['accuracy'])\n",
    "print(model02.summary())"
   ]
  },
  {
   "cell_type": "code",
   "execution_count": 62,
   "id": "2e351211",
   "metadata": {},
   "outputs": [
    {
     "name": "stdout",
     "output_type": "stream",
     "text": [
      "Epoch 1/170\n",
      "37/37 [==============================] - 117s 463ms/step - loss: 5.7275 - accuracy: 0.0324 - loss: 5.7977 - accuracy: 0.\n",
      "Epoch 2/170\n",
      "37/37 [==============================] - 6s 170ms/step - loss: 3.2933 - accuracy: 0.0339\n",
      "Epoch 3/170\n",
      "37/37 [==============================] - 6s 160ms/step - loss: 3.2617 - accuracy: 0.0406\n",
      "Epoch 4/170\n",
      "37/37 [==============================] - 6s 169ms/step - loss: 3.2632 - accuracy: 0.0432\n",
      "Epoch 5/170\n",
      "37/37 [==============================] - 6s 159ms/step - loss: 3.2425 - accuracy: 0.0666\n",
      "Epoch 6/170\n",
      "37/37 [==============================] - 6s 161ms/step - loss: 3.3097 - accuracy: 0.0412\n",
      "Epoch 7/170\n",
      "37/37 [==============================] - 6s 168ms/step - loss: 3.2540 - accuracy: 0.0551\n",
      "Epoch 8/170\n",
      "37/37 [==============================] - 6s 159ms/step - loss: 3.2445 - accuracy: 0.0479\n",
      "Epoch 9/170\n",
      "37/37 [==============================] - 6s 169ms/step - loss: 3.2391 - accuracy: 0.0633\n",
      "Epoch 10/170\n",
      "37/37 [==============================] - 6s 162ms/step - loss: 3.2354 - accuracy: 0.0718\n",
      "Epoch 11/170\n",
      "37/37 [==============================] - 6s 160ms/step - loss: 3.1015 - accuracy: 0.0830\n",
      "Epoch 12/170\n",
      "37/37 [==============================] - 6s 168ms/step - loss: 3.0549 - accuracy: 0.0750\n",
      "Epoch 13/170\n",
      "37/37 [==============================] - 6s 162ms/step - loss: 2.9639 - accuracy: 0.0906\n",
      "Epoch 14/170\n",
      "37/37 [==============================] - 6s 168ms/step - loss: 2.8722 - accuracy: 0.1108\n",
      "Epoch 15/170\n",
      "37/37 [==============================] - 6s 166ms/step - loss: 2.9301 - accuracy: 0.1091\n",
      "Epoch 16/170\n",
      "37/37 [==============================] - 6s 160ms/step - loss: 2.7998 - accuracy: 0.1193\n",
      "Epoch 17/170\n",
      "37/37 [==============================] - 6s 168ms/step - loss: 2.7573 - accuracy: 0.1116\n",
      "Epoch 18/170\n",
      "37/37 [==============================] - 6s 168ms/step - loss: 2.7546 - accuracy: 0.1331\n",
      "Epoch 19/170\n",
      "37/37 [==============================] - 6s 166ms/step - loss: 2.7927 - accuracy: 0.1213\n",
      "Epoch 20/170\n",
      "37/37 [==============================] - 6s 171ms/step - loss: 2.7626 - accuracy: 0.1253\n",
      "Epoch 21/170\n",
      "37/37 [==============================] - 6s 160ms/step - loss: 2.7371 - accuracy: 0.1063\n",
      "Epoch 22/170\n",
      "37/37 [==============================] - 6s 169ms/step - loss: 2.6325 - accuracy: 0.1309\n",
      "Epoch 23/170\n",
      "37/37 [==============================] - 6s 171ms/step - loss: 2.8826 - accuracy: 0.1047\n",
      "Epoch 24/170\n",
      "37/37 [==============================] - 6s 171ms/step - loss: 2.7056 - accuracy: 0.1131\n",
      "Epoch 25/170\n",
      "37/37 [==============================] - 6s 173ms/step - loss: 2.6296 - accuracy: 0.1369\n",
      "Epoch 26/170\n",
      "37/37 [==============================] - 6s 160ms/step - loss: 2.5765 - accuracy: 0.1340\n",
      "Epoch 27/170\n",
      "37/37 [==============================] - 6s 172ms/step - loss: 2.4720 - accuracy: 0.1655\n",
      "Epoch 28/170\n",
      "37/37 [==============================] - 6s 160ms/step - loss: 2.4593 - accuracy: 0.1636\n",
      "Epoch 29/170\n",
      "37/37 [==============================] - 6s 159ms/step - loss: 2.4120 - accuracy: 0.1750\n",
      "Epoch 30/170\n",
      "37/37 [==============================] - 6s 160ms/step - loss: 2.3818 - accuracy: 0.1906\n",
      "Epoch 31/170\n",
      "37/37 [==============================] - 6s 165ms/step - loss: 2.3426 - accuracy: 0.2097\n",
      "Epoch 32/170\n",
      "37/37 [==============================] - 6s 167ms/step - loss: 2.2936 - accuracy: 0.1909\n",
      "Epoch 33/170\n",
      "37/37 [==============================] - 6s 167ms/step - loss: 2.2081 - accuracy: 0.2220\n",
      "Epoch 34/170\n",
      "37/37 [==============================] - 6s 174ms/step - loss: 2.2038 - accuracy: 0.22151s - loss: 2.1880 - ac\n",
      "Epoch 35/170\n",
      "37/37 [==============================] - 6s 170ms/step - loss: 2.2023 - accuracy: 0.2237\n",
      "Epoch 36/170\n",
      "37/37 [==============================] - 6s 169ms/step - loss: 2.1484 - accuracy: 0.2269\n",
      "Epoch 37/170\n",
      "37/37 [==============================] - 6s 172ms/step - loss: 2.2217 - accuracy: 0.22820s - loss: 2.2192 - accuracy\n",
      "Epoch 38/170\n",
      "37/37 [==============================] - 6s 174ms/step - loss: 2.1679 - accuracy: 0.2374\n",
      "Epoch 39/170\n",
      "37/37 [==============================] - 6s 171ms/step - loss: 2.0003 - accuracy: 0.2755\n",
      "Epoch 40/170\n",
      "37/37 [==============================] - 6s 175ms/step - loss: 2.0988 - accuracy: 0.26574s - loss: 2.1 - ETA: 2s\n",
      "Epoch 41/170\n",
      "37/37 [==============================] - 6s 165ms/step - loss: 2.0270 - accuracy: 0.2903\n",
      "Epoch 42/170\n",
      "37/37 [==============================] - 7s 176ms/step - loss: 1.9061 - accuracy: 0.3079\n",
      "Epoch 43/170\n",
      "37/37 [==============================] - 6s 164ms/step - loss: 1.8501 - accuracy: 0.3151\n",
      "Epoch 44/170\n",
      "37/37 [==============================] - 6s 170ms/step - loss: 1.8614 - accuracy: 0.3379\n",
      "Epoch 45/170\n",
      "37/37 [==============================] - 6s 174ms/step - loss: 1.8119 - accuracy: 0.3431\n",
      "Epoch 46/170\n",
      "37/37 [==============================] - 6s 166ms/step - loss: 1.7750 - accuracy: 0.3336\n",
      "Epoch 47/170\n",
      "37/37 [==============================] - 7s 194ms/step - loss: 1.8469 - accuracy: 0.34490s - loss: 1.8473 - accuracy: \n",
      "Epoch 48/170\n",
      "37/37 [==============================] - 6s 172ms/step - loss: 1.6865 - accuracy: 0.3608\n",
      "Epoch 49/170\n",
      "37/37 [==============================] - 7s 175ms/step - loss: 1.7324 - accuracy: 0.3720\n",
      "Epoch 50/170\n",
      "37/37 [==============================] - 6s 166ms/step - loss: 1.6989 - accuracy: 0.3601\n",
      "Epoch 51/170\n",
      "37/37 [==============================] - 6s 170ms/step - loss: 1.6334 - accuracy: 0.3884\n",
      "Epoch 52/170\n",
      "37/37 [==============================] - 7s 179ms/step - loss: 1.5809 - accuracy: 0.3896\n",
      "Epoch 53/170\n",
      "37/37 [==============================] - 6s 158ms/step - loss: 1.6215 - accuracy: 0.3891\n",
      "Epoch 54/170\n",
      "37/37 [==============================] - 6s 167ms/step - loss: 1.5005 - accuracy: 0.4422\n",
      "Epoch 55/170\n",
      "37/37 [==============================] - 6s 160ms/step - loss: 1.5136 - accuracy: 0.4230\n",
      "Epoch 56/170\n",
      "37/37 [==============================] - 6s 163ms/step - loss: 2.0744 - accuracy: 0.3035\n",
      "Epoch 57/170\n",
      "37/37 [==============================] - 6s 168ms/step - loss: 1.6214 - accuracy: 0.4020\n",
      "Epoch 58/170\n",
      "37/37 [==============================] - 6s 164ms/step - loss: 1.5511 - accuracy: 0.4116\n",
      "Epoch 59/170\n",
      "37/37 [==============================] - 6s 172ms/step - loss: 1.4300 - accuracy: 0.4357\n",
      "Epoch 60/170\n",
      "37/37 [==============================] - 6s 167ms/step - loss: 1.3439 - accuracy: 0.5081\n",
      "Epoch 61/170\n",
      "37/37 [==============================] - 6s 167ms/step - loss: 1.4917 - accuracy: 0.4287\n",
      "Epoch 62/170\n",
      "37/37 [==============================] - 6s 172ms/step - loss: 1.3156 - accuracy: 0.4882\n",
      "Epoch 63/170\n",
      "37/37 [==============================] - 6s 163ms/step - loss: 1.4204 - accuracy: 0.4321\n",
      "Epoch 64/170\n",
      "37/37 [==============================] - 6s 156ms/step - loss: 1.3674 - accuracy: 0.4358\n",
      "Epoch 65/170\n",
      "37/37 [==============================] - 6s 161ms/step - loss: 1.3153 - accuracy: 0.4885\n",
      "Epoch 66/170\n",
      "37/37 [==============================] - 6s 173ms/step - loss: 1.2856 - accuracy: 0.4837\n",
      "Epoch 67/170\n",
      "37/37 [==============================] - 6s 171ms/step - loss: 1.4074 - accuracy: 0.4977\n",
      "Epoch 68/170\n",
      "37/37 [==============================] - 6s 165ms/step - loss: 2.1475 - accuracy: 0.2758\n",
      "Epoch 69/170\n",
      "37/37 [==============================] - 6s 160ms/step - loss: 1.6114 - accuracy: 0.3892\n",
      "Epoch 70/170\n",
      "37/37 [==============================] - 6s 175ms/step - loss: 1.4871 - accuracy: 0.4361\n",
      "Epoch 71/170\n",
      "37/37 [==============================] - 7s 193ms/step - loss: 1.4461 - accuracy: 0.4622\n",
      "Epoch 72/170\n",
      "37/37 [==============================] - 7s 186ms/step - loss: 1.3308 - accuracy: 0.4678\n",
      "Epoch 73/170\n",
      "37/37 [==============================] - 7s 195ms/step - loss: 1.2565 - accuracy: 0.4980\n",
      "Epoch 74/170\n",
      "37/37 [==============================] - 7s 182ms/step - loss: 1.2495 - accuracy: 0.4990\n",
      "Epoch 75/170\n",
      "37/37 [==============================] - 6s 174ms/step - loss: 1.4278 - accuracy: 0.4403\n",
      "Epoch 76/170\n",
      "37/37 [==============================] - 7s 183ms/step - loss: 1.2175 - accuracy: 0.5068\n",
      "Epoch 77/170\n",
      "37/37 [==============================] - 6s 170ms/step - loss: 1.1755 - accuracy: 0.5222\n",
      "Epoch 78/170\n",
      "37/37 [==============================] - 7s 179ms/step - loss: 1.2038 - accuracy: 0.5133\n",
      "Epoch 79/170\n",
      "37/37 [==============================] - 7s 181ms/step - loss: 1.1744 - accuracy: 0.54182s -\n",
      "Epoch 80/170\n",
      "37/37 [==============================] - 7s 182ms/step - loss: 1.1688 - accuracy: 0.51752s - loss: 1\n",
      "Epoch 81/170\n",
      "37/37 [==============================] - 7s 180ms/step - loss: 1.1122 - accuracy: 0.53200s - loss: 1.1107 - accuracy\n",
      "Epoch 82/170\n",
      "37/37 [==============================] - 6s 163ms/step - loss: 1.1174 - accuracy: 0.5649\n",
      "Epoch 83/170\n",
      "37/37 [==============================] - 7s 183ms/step - loss: 1.4121 - accuracy: 0.5047\n",
      "Epoch 84/170\n",
      "37/37 [==============================] - 7s 184ms/step - loss: 1.1243 - accuracy: 0.5582\n",
      "Epoch 85/170\n",
      "37/37 [==============================] - 7s 177ms/step - loss: 1.1592 - accuracy: 0.5127\n",
      "Epoch 86/170\n",
      "37/37 [==============================] - 7s 192ms/step - loss: 1.1337 - accuracy: 0.5593\n",
      "Epoch 87/170\n",
      "37/37 [==============================] - 7s 200ms/step - loss: 0.8692 - accuracy: 0.6499\n",
      "Epoch 88/170\n",
      "37/37 [==============================] - 6s 172ms/step - loss: 1.0298 - accuracy: 0.5703\n",
      "Epoch 89/170\n",
      "37/37 [==============================] - 6s 168ms/step - loss: 0.9172 - accuracy: 0.6200\n",
      "Epoch 90/170\n",
      "37/37 [==============================] - 7s 191ms/step - loss: 0.9049 - accuracy: 0.6251\n",
      "Epoch 91/170\n",
      "37/37 [==============================] - 6s 169ms/step - loss: 1.0030 - accuracy: 0.6250\n",
      "Epoch 92/170\n",
      "37/37 [==============================] - 6s 175ms/step - loss: 0.8382 - accuracy: 0.65672s - loss: 0.8391 - ac - ETA: 0s - loss: 0.8373 - accu\n",
      "Epoch 93/170\n",
      "37/37 [==============================] - 6s 170ms/step - loss: 0.8867 - accuracy: 0.6426\n",
      "Epoch 94/170\n",
      "37/37 [==============================] - 6s 172ms/step - loss: 0.8715 - accuracy: 0.6575\n",
      "Epoch 95/170\n",
      "37/37 [==============================] - 6s 174ms/step - loss: 0.9129 - accuracy: 0.6256\n",
      "Epoch 96/170\n",
      "37/37 [==============================] - 6s 167ms/step - loss: 0.7521 - accuracy: 0.7031\n",
      "Epoch 97/170\n",
      "37/37 [==============================] - 6s 174ms/step - loss: 0.8731 - accuracy: 0.67091s - loss: 0.8334 - ac\n",
      "Epoch 98/170\n",
      "37/37 [==============================] - 6s 171ms/step - loss: 1.1539 - accuracy: 0.5768\n",
      "Epoch 99/170\n",
      "37/37 [==============================] - 6s 171ms/step - loss: 0.8598 - accuracy: 0.6571\n",
      "Epoch 100/170\n",
      "37/37 [==============================] - 6s 175ms/step - loss: 0.8207 - accuracy: 0.6642\n",
      "Epoch 101/170\n",
      "37/37 [==============================] - 7s 182ms/step - loss: 0.7275 - accuracy: 0.7086\n",
      "Epoch 102/170\n",
      "37/37 [==============================] - 6s 174ms/step - loss: 0.7631 - accuracy: 0.6963\n",
      "Epoch 103/170\n",
      "37/37 [==============================] - 6s 170ms/step - loss: 1.2116 - accuracy: 0.5430\n",
      "Epoch 104/170\n",
      "37/37 [==============================] - 6s 167ms/step - loss: 0.8473 - accuracy: 0.6874\n",
      "Epoch 105/170\n",
      "37/37 [==============================] - 6s 170ms/step - loss: 1.1427 - accuracy: 0.5881\n",
      "Epoch 106/170\n",
      "37/37 [==============================] - 6s 164ms/step - loss: 0.7511 - accuracy: 0.6775\n",
      "Epoch 107/170\n",
      "37/37 [==============================] - 6s 170ms/step - loss: 0.8873 - accuracy: 0.6725\n",
      "Epoch 108/170\n",
      "37/37 [==============================] - 6s 165ms/step - loss: 0.8023 - accuracy: 0.6843\n",
      "Epoch 109/170\n",
      "37/37 [==============================] - 6s 163ms/step - loss: 0.7457 - accuracy: 0.7047\n",
      "Epoch 110/170\n",
      "37/37 [==============================] - 6s 172ms/step - loss: 0.8757 - accuracy: 0.6882\n",
      "Epoch 111/170\n",
      "37/37 [==============================] - 6s 163ms/step - loss: 0.7879 - accuracy: 0.6892\n",
      "Epoch 112/170\n",
      "37/37 [==============================] - 6s 169ms/step - loss: 0.6498 - accuracy: 0.7556\n",
      "Epoch 113/170\n",
      "37/37 [==============================] - 6s 167ms/step - loss: 0.7573 - accuracy: 0.7300\n",
      "Epoch 114/170\n",
      "37/37 [==============================] - 6s 163ms/step - loss: 0.6722 - accuracy: 0.7518\n",
      "Epoch 115/170\n",
      "37/37 [==============================] - 6s 172ms/step - loss: 0.7084 - accuracy: 0.7312\n",
      "Epoch 116/170\n",
      "37/37 [==============================] - 6s 162ms/step - loss: 0.8182 - accuracy: 0.6892\n",
      "Epoch 117/170\n",
      "37/37 [==============================] - 6s 167ms/step - loss: 0.5994 - accuracy: 0.7646\n",
      "Epoch 118/170\n",
      "37/37 [==============================] - 7s 187ms/step - loss: 0.5210 - accuracy: 0.7887\n",
      "Epoch 119/170\n",
      "37/37 [==============================] - 7s 185ms/step - loss: 0.6202 - accuracy: 0.7603\n",
      "Epoch 120/170\n",
      "37/37 [==============================] - 6s 175ms/step - loss: 0.5889 - accuracy: 0.76800s - loss: 0.5879 - accu\n",
      "Epoch 121/170\n",
      "37/37 [==============================] - 6s 163ms/step - loss: 0.5697 - accuracy: 0.7696\n",
      "Epoch 122/170\n",
      "37/37 [==============================] - 6s 167ms/step - loss: 1.0677 - accuracy: 0.6333\n",
      "Epoch 123/170\n",
      "37/37 [==============================] - 6s 164ms/step - loss: 1.0965 - accuracy: 0.6107\n",
      "Epoch 124/170\n",
      "37/37 [==============================] - 6s 162ms/step - loss: 0.5907 - accuracy: 0.7923\n",
      "Epoch 125/170\n",
      "37/37 [==============================] - 6s 170ms/step - loss: 0.6009 - accuracy: 0.7820\n",
      "Epoch 126/170\n",
      "37/37 [==============================] - 6s 162ms/step - loss: 0.8520 - accuracy: 0.6975\n",
      "Epoch 127/170\n",
      "37/37 [==============================] - 6s 164ms/step - loss: 0.5855 - accuracy: 0.7703\n",
      "Epoch 128/170\n",
      "37/37 [==============================] - 6s 169ms/step - loss: 0.6381 - accuracy: 0.7829\n",
      "Epoch 129/170\n",
      "37/37 [==============================] - 6s 161ms/step - loss: 0.6471 - accuracy: 0.7452\n",
      "Epoch 130/170\n",
      "37/37 [==============================] - 6s 169ms/step - loss: 0.4978 - accuracy: 0.8057\n",
      "Epoch 131/170\n",
      "37/37 [==============================] - 6s 165ms/step - loss: 0.5064 - accuracy: 0.8195\n",
      "Epoch 132/170\n",
      "37/37 [==============================] - 6s 162ms/step - loss: 0.5142 - accuracy: 0.8155\n",
      "Epoch 133/170\n",
      "37/37 [==============================] - 6s 171ms/step - loss: 0.6549 - accuracy: 0.7602\n",
      "Epoch 134/170\n",
      "37/37 [==============================] - 6s 162ms/step - loss: 0.5004 - accuracy: 0.8367\n",
      "Epoch 135/170\n",
      "37/37 [==============================] - 6s 167ms/step - loss: 0.4775 - accuracy: 0.8083\n",
      "Epoch 136/170\n",
      "37/37 [==============================] - 6s 166ms/step - loss: 0.6818 - accuracy: 0.7529\n",
      "Epoch 137/170\n",
      "37/37 [==============================] - 6s 162ms/step - loss: 0.4826 - accuracy: 0.8106\n",
      "Epoch 138/170\n",
      "37/37 [==============================] - 6s 170ms/step - loss: 0.6235 - accuracy: 0.7862\n",
      "Epoch 139/170\n",
      "37/37 [==============================] - 6s 161ms/step - loss: 0.6723 - accuracy: 0.7665\n",
      "Epoch 140/170\n",
      "37/37 [==============================] - 6s 165ms/step - loss: 0.4089 - accuracy: 0.8520\n",
      "Epoch 141/170\n",
      "37/37 [==============================] - 6s 169ms/step - loss: 0.5559 - accuracy: 0.7861\n",
      "Epoch 142/170\n",
      "37/37 [==============================] - 6s 160ms/step - loss: 0.4234 - accuracy: 0.8475\n",
      "Epoch 143/170\n",
      "37/37 [==============================] - 6s 170ms/step - loss: 0.5124 - accuracy: 0.8130\n",
      "Epoch 144/170\n",
      "37/37 [==============================] - 6s 164ms/step - loss: 0.3811 - accuracy: 0.8695\n",
      "Epoch 145/170\n",
      "37/37 [==============================] - 6s 175ms/step - loss: 0.5188 - accuracy: 0.8220\n",
      "Epoch 146/170\n",
      "37/37 [==============================] - 6s 169ms/step - loss: 0.5629 - accuracy: 0.7925\n",
      "Epoch 147/170\n",
      "37/37 [==============================] - 6s 161ms/step - loss: 0.4311 - accuracy: 0.8442\n",
      "Epoch 148/170\n",
      "37/37 [==============================] - 6s 170ms/step - loss: 0.3207 - accuracy: 0.8843\n",
      "Epoch 149/170\n",
      "37/37 [==============================] - 6s 166ms/step - loss: 0.3769 - accuracy: 0.8698\n",
      "Epoch 150/170\n",
      "37/37 [==============================] - 6s 162ms/step - loss: 0.3689 - accuracy: 0.8578\n",
      "Epoch 151/170\n",
      "37/37 [==============================] - 6s 168ms/step - loss: 0.3966 - accuracy: 0.8547\n",
      "Epoch 152/170\n",
      "37/37 [==============================] - 6s 160ms/step - loss: 0.3214 - accuracy: 0.8884\n",
      "Epoch 153/170\n",
      "37/37 [==============================] - 6s 165ms/step - loss: 0.3511 - accuracy: 0.8781\n",
      "Epoch 154/170\n",
      "37/37 [==============================] - 6s 167ms/step - loss: 0.4990 - accuracy: 0.8188\n",
      "Epoch 155/170\n",
      "37/37 [==============================] - 6s 161ms/step - loss: 0.6117 - accuracy: 0.7848\n",
      "Epoch 156/170\n",
      "37/37 [==============================] - 6s 169ms/step - loss: 0.3126 - accuracy: 0.9027\n",
      "Epoch 157/170\n",
      "37/37 [==============================] - 6s 160ms/step - loss: 0.3472 - accuracy: 0.8795\n",
      "Epoch 158/170\n",
      "37/37 [==============================] - 6s 158ms/step - loss: 0.4283 - accuracy: 0.8434\n",
      "Epoch 159/170\n",
      "37/37 [==============================] - 6s 164ms/step - loss: 0.7592 - accuracy: 0.7328\n",
      "Epoch 160/170\n",
      "37/37 [==============================] - 6s 155ms/step - loss: 0.5231 - accuracy: 0.7929\n",
      "Epoch 161/170\n",
      "37/37 [==============================] - 6s 162ms/step - loss: 0.3847 - accuracy: 0.8601\n",
      "Epoch 162/170\n",
      "37/37 [==============================] - 6s 161ms/step - loss: 0.5399 - accuracy: 0.8165\n",
      "Epoch 163/170\n",
      "37/37 [==============================] - 6s 154ms/step - loss: 0.4726 - accuracy: 0.8339\n",
      "Epoch 164/170\n",
      "37/37 [==============================] - 6s 167ms/step - loss: 0.3487 - accuracy: 0.8730\n",
      "Epoch 165/170\n",
      "37/37 [==============================] - 6s 159ms/step - loss: 0.3924 - accuracy: 0.8420\n",
      "Epoch 166/170\n",
      "37/37 [==============================] - 6s 157ms/step - loss: 0.4287 - accuracy: 0.8232\n",
      "Epoch 167/170\n",
      "37/37 [==============================] - 6s 165ms/step - loss: 0.3438 - accuracy: 0.8839\n",
      "Epoch 168/170\n",
      "37/37 [==============================] - 6s 155ms/step - loss: 0.6223 - accuracy: 0.7997\n",
      "Epoch 169/170\n",
      "37/37 [==============================] - 6s 161ms/step - loss: 0.6602 - accuracy: 0.7908\n",
      "Epoch 170/170\n",
      "37/37 [==============================] - 6s 162ms/step - loss: 0.3147 - accuracy: 0.9026\n",
      "Wall time: 20min 22s\n"
     ]
    },
    {
     "data": {
      "text/plain": [
       "<tensorflow.python.keras.callbacks.History at 0x1ae33fd1730>"
      ]
     },
     "execution_count": 62,
     "metadata": {},
     "output_type": "execute_result"
    }
   ],
   "source": [
    "%%time\n",
    "model02.fit(X_train, y_train, epochs=200, callbacks=[tb_callback])"
   ]
  },
  {
   "cell_type": "markdown",
   "id": "bc573470",
   "metadata": {},
   "source": [
    "## Making predictions"
   ]
  },
  {
   "cell_type": "code",
   "execution_count": 32,
   "id": "0ec73c13",
   "metadata": {},
   "outputs": [],
   "source": [
    "res = model02.predict(X_test)"
   ]
  },
  {
   "cell_type": "code",
   "execution_count": 33,
   "id": "5e74c512",
   "metadata": {},
   "outputs": [
    {
     "data": {
      "text/plain": [
       "'C'"
      ]
     },
     "execution_count": 33,
     "metadata": {},
     "output_type": "execute_result"
    }
   ],
   "source": [
    "actions[np.argmax(res[9])]"
   ]
  },
  {
   "cell_type": "code",
   "execution_count": 34,
   "id": "b2480d7c",
   "metadata": {},
   "outputs": [
    {
     "data": {
      "text/plain": [
       "'C'"
      ]
     },
     "execution_count": 34,
     "metadata": {},
     "output_type": "execute_result"
    }
   ],
   "source": [
    "actions[np.argmax(y_test[9])]"
   ]
  },
  {
   "cell_type": "markdown",
   "id": "05b96fce",
   "metadata": {},
   "source": [
    "## Saving Weights"
   ]
  },
  {
   "cell_type": "code",
   "execution_count": 52,
   "id": "c21f8047",
   "metadata": {},
   "outputs": [],
   "source": [
    "model02.save('actions_model02.h5')"
   ]
  },
  {
   "cell_type": "code",
   "execution_count": 32,
   "id": "f9d71aa2",
   "metadata": {},
   "outputs": [],
   "source": [
    "del model"
   ]
  },
  {
   "cell_type": "code",
   "execution_count": 31,
   "id": "3b2f4af7",
   "metadata": {},
   "outputs": [],
   "source": [
    "model02.load_weights('actions_model02.h5')"
   ]
  },
  {
   "cell_type": "markdown",
   "id": "6cd5281c",
   "metadata": {},
   "source": [
    "## Evaluation using Confusion Matrix and Accuracy"
   ]
  },
  {
   "cell_type": "code",
   "execution_count": 35,
   "id": "e91e1517",
   "metadata": {},
   "outputs": [],
   "source": [
    "from sklearn.metrics import multilabel_confusion_matrix, accuracy_score"
   ]
  },
  {
   "cell_type": "code",
   "execution_count": 36,
   "id": "06ad028e",
   "metadata": {},
   "outputs": [],
   "source": [
    "yhat = model02.predict(X_test)"
   ]
  },
  {
   "cell_type": "code",
   "execution_count": 37,
   "id": "b9905f6f",
   "metadata": {},
   "outputs": [],
   "source": [
    "ytrue = np.argmax(y_test, axis=1).tolist()\n",
    "yhat = np.argmax(yhat, axis=1).tolist()"
   ]
  },
  {
   "cell_type": "code",
   "execution_count": 38,
   "id": "b9c0580b",
   "metadata": {},
   "outputs": [
    {
     "data": {
      "text/plain": [
       "array([[[120,   5],\n",
       "        [  1,   4]],\n",
       "\n",
       "       [[122,   0],\n",
       "        [  3,   5]],\n",
       "\n",
       "       [[126,   2],\n",
       "        [  0,   2]],\n",
       "\n",
       "       [[126,   1],\n",
       "        [  1,   2]],\n",
       "\n",
       "       [[122,   0],\n",
       "        [  2,   6]],\n",
       "\n",
       "       [[124,   0],\n",
       "        [  0,   6]],\n",
       "\n",
       "       [[126,   2],\n",
       "        [  0,   2]],\n",
       "\n",
       "       [[126,   1],\n",
       "        [  0,   3]],\n",
       "\n",
       "       [[123,   2],\n",
       "        [  1,   4]],\n",
       "\n",
       "       [[121,   0],\n",
       "        [  1,   8]],\n",
       "\n",
       "       [[124,   2],\n",
       "        [  0,   4]],\n",
       "\n",
       "       [[125,   0],\n",
       "        [  0,   5]],\n",
       "\n",
       "       [[122,   0],\n",
       "        [  0,   8]],\n",
       "\n",
       "       [[125,   0],\n",
       "        [  2,   3]],\n",
       "\n",
       "       [[125,   0],\n",
       "        [  2,   3]],\n",
       "\n",
       "       [[129,   0],\n",
       "        [  1,   0]],\n",
       "\n",
       "       [[120,   2],\n",
       "        [  0,   8]],\n",
       "\n",
       "       [[125,   0],\n",
       "        [  2,   3]],\n",
       "\n",
       "       [[125,   0],\n",
       "        [  1,   4]],\n",
       "\n",
       "       [[127,   0],\n",
       "        [  1,   2]],\n",
       "\n",
       "       [[123,   0],\n",
       "        [  2,   5]],\n",
       "\n",
       "       [[121,   2],\n",
       "        [  0,   7]],\n",
       "\n",
       "       [[125,   1],\n",
       "        [  1,   3]],\n",
       "\n",
       "       [[125,   1],\n",
       "        [  0,   4]],\n",
       "\n",
       "       [[126,   0],\n",
       "        [  2,   2]],\n",
       "\n",
       "       [[123,   3],\n",
       "        [  1,   3]]], dtype=int64)"
      ]
     },
     "execution_count": 38,
     "metadata": {},
     "output_type": "execute_result"
    }
   ],
   "source": [
    "multilabel_confusion_matrix(ytrue, yhat)"
   ]
  },
  {
   "cell_type": "code",
   "execution_count": 39,
   "id": "9bc4ca1f",
   "metadata": {
    "scrolled": true
   },
   "outputs": [
    {
     "data": {
      "text/plain": [
       "0.8153846153846154"
      ]
     },
     "execution_count": 39,
     "metadata": {},
     "output_type": "execute_result"
    }
   ],
   "source": [
    "accuracy_score(ytrue, yhat)"
   ]
  },
  {
   "cell_type": "code",
   "execution_count": 51,
   "id": "299566c7",
   "metadata": {},
   "outputs": [
    {
     "data": {
      "text/plain": [
       "Text(0.5, 15.0, 'Predicted label')"
      ]
     },
     "execution_count": 51,
     "metadata": {},
     "output_type": "execute_result"
    },
    {
     "data": {
      "image/png": "[encoded data removed]",
      "text/plain": [
       "<Figure size 432x288 with 2 Axes>"
      ]
     },
     "metadata": {
      "needs_background": "light"
     },
     "output_type": "display_data"
    }
   ],
   "source": [
    "import seaborn as sns\n",
    "from sklearn.metrics import confusion_matrix\n",
    "conf_mat = confusion_matrix(ytrue, yhat)\n",
    "conf_mat_normalized = conf_mat.astype('float') / conf_mat.sum(axis=1)[:, np.newaxis]\n",
    "colormap = sns.color_palette(\"Reds\")\n",
    "sns.heatmap(conf_mat_normalized, cmap= colormap)\n",
    "plt.ylabel('True label')\n",
    "plt.xlabel('Predicted label')"
   ]
  },
  {
   "cell_type": "code",
   "execution_count": null,
   "id": "1b4aa892",
   "metadata": {},
   "outputs": [],
   "source": [
    "labels = ['A', 'B', 'C', 'D', 'E', 'F', 'G', 'H', 'I', 'J', 'K', 'L', 'M', 'N', 'O', 'P', 'Q', 'R', 'S', 'T', 'U', 'V', 'W', 'X', 'Y', 'Z']\n",
    "labels = np.asarray(labels).reshape(2,2)\n",
    "sns.heatmap(cf_matrix, annot=labels, fmt=‘’, cmap='Blues')"
   ]
  },
  {
   "cell_type": "code",
   "execution_count": 37,
   "id": "adce7b39",
   "metadata": {},
   "outputs": [],
   "source": [
    "from sklearn import metrics"
   ]
  },
  {
   "cell_type": "code",
   "execution_count": 38,
   "id": "1e5c3236",
   "metadata": {},
   "outputs": [
    {
     "name": "stdout",
     "output_type": "stream",
     "text": [
      "              precision    recall  f1-score   support\n",
      "\n",
      "           0      0.571     0.800     0.667         5\n",
      "           1      1.000     0.750     0.857         8\n",
      "           2      0.500     1.000     0.667         2\n",
      "           3      0.750     1.000     0.857         3\n",
      "           4      1.000     0.875     0.933         8\n",
      "           5      1.000     1.000     1.000         6\n",
      "           6      1.000     0.500     0.667         2\n",
      "           7      1.000     1.000     1.000         3\n",
      "           8      0.800     0.800     0.800         5\n",
      "           9      1.000     0.778     0.875         9\n",
      "          10      1.000     1.000     1.000         4\n",
      "          11      1.000     1.000     1.000         5\n",
      "          12      0.875     0.875     0.875         8\n",
      "          13      0.800     0.800     0.800         5\n",
      "          14      1.000     0.800     0.889         5\n",
      "          15      0.000     0.000     0.000         1\n",
      "          16      1.000     1.000     1.000         8\n",
      "          17      0.800     0.800     0.800         5\n",
      "          18      0.833     1.000     0.909         5\n",
      "          19      0.667     0.667     0.667         3\n",
      "          20      0.778     1.000     0.875         7\n",
      "          21      1.000     0.857     0.923         7\n",
      "          22      0.800     1.000     0.889         4\n",
      "          23      1.000     1.000     1.000         4\n",
      "          24      1.000     0.750     0.857         4\n",
      "          25      1.000     1.000     1.000         4\n",
      "\n",
      "    accuracy                          0.877       130\n",
      "   macro avg      0.853     0.848     0.839       130\n",
      "weighted avg      0.899     0.877     0.879       130\n",
      "\n"
     ]
    }
   ],
   "source": [
    "print(metrics.classification_report(ytrue, yhat, digits=3))"
   ]
  },
  {
   "cell_type": "markdown",
   "id": "cd1e314a",
   "metadata": {},
   "source": [
    "## Test in Real Time"
   ]
  },
  {
   "cell_type": "code",
   "execution_count": 40,
   "id": "22c1556c",
   "metadata": {},
   "outputs": [],
   "source": [
    "from scipy import stats"
   ]
  },
  {
   "cell_type": "code",
   "execution_count": 41,
   "id": "b355e1eb",
   "metadata": {},
   "outputs": [],
   "source": [
    "colors = [(245,117,16), (117,245,16), (16,117,245), (117,245,16), (117,245,16)]\n",
    "def prob_viz(res, actions, input_frame, colors):\n",
    "    output_frame = input_frame.copy()\n",
    "    for num, prob in enumerate(res):\n",
    "        cv2.rectangle(output_frame, (0,60+num*40), (int(prob*100), 90+num*40), colors[num], -1)\n",
    "        cv2.putText(output_frame, actions[num], (0, 85+num*40), cv2.FONT_HERSHEY_SIMPLEX, 1, (255,255,255), 2, cv2.LINE_AA)\n",
    "        \n",
    "    return output_frame"
   ]
  },
  {
   "cell_type": "code",
   "execution_count": 48,
   "id": "6529f21f",
   "metadata": {},
   "outputs": [
    {
     "name": "stdout",
     "output_type": "stream",
     "text": [
      "<class 'mediapipe.python.solution_base.SolutionOutputs'>\n",
      "<class 'mediapipe.python.solution_base.SolutionOutputs'>\n",
      "<class 'mediapipe.python.solution_base.SolutionOutputs'>\n",
      "<class 'mediapipe.python.solution_base.SolutionOutputs'>\n",
      "<class 'mediapipe.python.solution_base.SolutionOutputs'>\n",
      "<class 'mediapipe.python.solution_base.SolutionOutputs'>\n",
      "<class 'mediapipe.python.solution_base.SolutionOutputs'>\n",
      "<class 'mediapipe.python.solution_base.SolutionOutputs'>\n",
      "<class 'mediapipe.python.solution_base.SolutionOutputs'>\n",
      "<class 'mediapipe.python.solution_base.SolutionOutputs'>\n",
      "<class 'mediapipe.python.solution_base.SolutionOutputs'>\n",
      "<class 'mediapipe.python.solution_base.SolutionOutputs'>\n",
      "<class 'mediapipe.python.solution_base.SolutionOutputs'>\n",
      "<class 'mediapipe.python.solution_base.SolutionOutputs'>\n",
      "<class 'mediapipe.python.solution_base.SolutionOutputs'>\n",
      "<class 'mediapipe.python.solution_base.SolutionOutputs'>\n",
      "<class 'mediapipe.python.solution_base.SolutionOutputs'>\n",
      "<class 'mediapipe.python.solution_base.SolutionOutputs'>\n",
      "<class 'mediapipe.python.solution_base.SolutionOutputs'>\n",
      "<class 'mediapipe.python.solution_base.SolutionOutputs'>\n",
      "<class 'mediapipe.python.solution_base.SolutionOutputs'>\n",
      "<class 'mediapipe.python.solution_base.SolutionOutputs'>\n",
      "<class 'mediapipe.python.solution_base.SolutionOutputs'>\n",
      "<class 'mediapipe.python.solution_base.SolutionOutputs'>\n",
      "<class 'mediapipe.python.solution_base.SolutionOutputs'>\n",
      "<class 'mediapipe.python.solution_base.SolutionOutputs'>\n",
      "<class 'mediapipe.python.solution_base.SolutionOutputs'>\n",
      "<class 'mediapipe.python.solution_base.SolutionOutputs'>\n",
      "<class 'mediapipe.python.solution_base.SolutionOutputs'>\n",
      "<class 'mediapipe.python.solution_base.SolutionOutputs'>\n",
      "C\n",
      "<class 'mediapipe.python.solution_base.SolutionOutputs'>\n",
      "C\n",
      "<class 'mediapipe.python.solution_base.SolutionOutputs'>\n",
      "C\n",
      "<class 'mediapipe.python.solution_base.SolutionOutputs'>\n",
      "C\n",
      "<class 'mediapipe.python.solution_base.SolutionOutputs'>\n",
      "C\n",
      "<class 'mediapipe.python.solution_base.SolutionOutputs'>\n",
      "C\n",
      "<class 'mediapipe.python.solution_base.SolutionOutputs'>\n",
      "C\n",
      "<class 'mediapipe.python.solution_base.SolutionOutputs'>\n",
      "C\n",
      "<class 'mediapipe.python.solution_base.SolutionOutputs'>\n",
      "C\n",
      "<class 'mediapipe.python.solution_base.SolutionOutputs'>\n",
      "C\n",
      "<class 'mediapipe.python.solution_base.SolutionOutputs'>\n",
      "C\n",
      "<class 'mediapipe.python.solution_base.SolutionOutputs'>\n",
      "C\n",
      "<class 'mediapipe.python.solution_base.SolutionOutputs'>\n",
      "C\n",
      "<class 'mediapipe.python.solution_base.SolutionOutputs'>\n",
      "C\n",
      "<class 'mediapipe.python.solution_base.SolutionOutputs'>\n",
      "C\n",
      "<class 'mediapipe.python.solution_base.SolutionOutputs'>\n",
      "A\n",
      "<class 'mediapipe.python.solution_base.SolutionOutputs'>\n",
      "A\n",
      "<class 'mediapipe.python.solution_base.SolutionOutputs'>\n",
      "A\n",
      "<class 'mediapipe.python.solution_base.SolutionOutputs'>\n",
      "A\n",
      "<class 'mediapipe.python.solution_base.SolutionOutputs'>\n",
      "A\n",
      "<class 'mediapipe.python.solution_base.SolutionOutputs'>\n",
      "A\n",
      "<class 'mediapipe.python.solution_base.SolutionOutputs'>\n",
      "A\n",
      "<class 'mediapipe.python.solution_base.SolutionOutputs'>\n",
      "A\n",
      "<class 'mediapipe.python.solution_base.SolutionOutputs'>\n",
      "A\n",
      "<class 'mediapipe.python.solution_base.SolutionOutputs'>\n",
      "A\n",
      "<class 'mediapipe.python.solution_base.SolutionOutputs'>\n",
      "A\n",
      "<class 'mediapipe.python.solution_base.SolutionOutputs'>\n",
      "A\n",
      "<class 'mediapipe.python.solution_base.SolutionOutputs'>\n",
      "A\n",
      "<class 'mediapipe.python.solution_base.SolutionOutputs'>\n",
      "A\n",
      "<class 'mediapipe.python.solution_base.SolutionOutputs'>\n",
      "A\n",
      "<class 'mediapipe.python.solution_base.SolutionOutputs'>\n",
      "A\n",
      "<class 'mediapipe.python.solution_base.SolutionOutputs'>\n",
      "Y\n",
      "<class 'mediapipe.python.solution_base.SolutionOutputs'>\n",
      "A\n",
      "<class 'mediapipe.python.solution_base.SolutionOutputs'>\n",
      "Y\n",
      "<class 'mediapipe.python.solution_base.SolutionOutputs'>\n",
      "Y\n",
      "<class 'mediapipe.python.solution_base.SolutionOutputs'>\n",
      "Y\n",
      "<class 'mediapipe.python.solution_base.SolutionOutputs'>\n",
      "Y\n",
      "<class 'mediapipe.python.solution_base.SolutionOutputs'>\n",
      "Y\n",
      "<class 'mediapipe.python.solution_base.SolutionOutputs'>\n",
      "Y\n",
      "<class 'mediapipe.python.solution_base.SolutionOutputs'>\n",
      "Y\n",
      "<class 'mediapipe.python.solution_base.SolutionOutputs'>\n",
      "Y\n",
      "<class 'mediapipe.python.solution_base.SolutionOutputs'>\n",
      "Y\n",
      "<class 'mediapipe.python.solution_base.SolutionOutputs'>\n",
      "Y\n",
      "<class 'mediapipe.python.solution_base.SolutionOutputs'>\n",
      "Y\n",
      "<class 'mediapipe.python.solution_base.SolutionOutputs'>\n",
      "Y\n",
      "<class 'mediapipe.python.solution_base.SolutionOutputs'>\n",
      "Y\n",
      "<class 'mediapipe.python.solution_base.SolutionOutputs'>\n",
      "Y\n",
      "<class 'mediapipe.python.solution_base.SolutionOutputs'>\n",
      "Y\n",
      "<class 'mediapipe.python.solution_base.SolutionOutputs'>\n",
      "Y\n",
      "<class 'mediapipe.python.solution_base.SolutionOutputs'>\n",
      "Y\n",
      "<class 'mediapipe.python.solution_base.SolutionOutputs'>\n",
      "Y\n",
      "<class 'mediapipe.python.solution_base.SolutionOutputs'>\n",
      "Y\n",
      "<class 'mediapipe.python.solution_base.SolutionOutputs'>\n",
      "Y\n",
      "<class 'mediapipe.python.solution_base.SolutionOutputs'>\n",
      "Y\n",
      "<class 'mediapipe.python.solution_base.SolutionOutputs'>\n",
      "Y\n",
      "<class 'mediapipe.python.solution_base.SolutionOutputs'>\n",
      "M\n",
      "<class 'mediapipe.python.solution_base.SolutionOutputs'>\n",
      "M\n",
      "<class 'mediapipe.python.solution_base.SolutionOutputs'>\n",
      "M\n",
      "<class 'mediapipe.python.solution_base.SolutionOutputs'>\n",
      "M\n",
      "<class 'mediapipe.python.solution_base.SolutionOutputs'>\n",
      "A\n",
      "<class 'mediapipe.python.solution_base.SolutionOutputs'>\n",
      "A\n",
      "<class 'mediapipe.python.solution_base.SolutionOutputs'>\n",
      "B\n",
      "<class 'mediapipe.python.solution_base.SolutionOutputs'>\n",
      "Y\n",
      "<class 'mediapipe.python.solution_base.SolutionOutputs'>\n",
      "Y\n",
      "<class 'mediapipe.python.solution_base.SolutionOutputs'>\n",
      "M\n",
      "<class 'mediapipe.python.solution_base.SolutionOutputs'>\n",
      "M\n",
      "<class 'mediapipe.python.solution_base.SolutionOutputs'>\n",
      "M\n",
      "<class 'mediapipe.python.solution_base.SolutionOutputs'>\n",
      "M\n",
      "<class 'mediapipe.python.solution_base.SolutionOutputs'>\n",
      "M\n",
      "<class 'mediapipe.python.solution_base.SolutionOutputs'>\n",
      "Y\n",
      "<class 'mediapipe.python.solution_base.SolutionOutputs'>\n",
      "Y\n",
      "<class 'mediapipe.python.solution_base.SolutionOutputs'>\n",
      "Y\n",
      "<class 'mediapipe.python.solution_base.SolutionOutputs'>\n",
      "Y\n",
      "<class 'mediapipe.python.solution_base.SolutionOutputs'>\n",
      "Y\n",
      "<class 'mediapipe.python.solution_base.SolutionOutputs'>\n",
      "Y\n",
      "<class 'mediapipe.python.solution_base.SolutionOutputs'>\n",
      "Y\n",
      "<class 'mediapipe.python.solution_base.SolutionOutputs'>\n",
      "Y\n",
      "<class 'mediapipe.python.solution_base.SolutionOutputs'>\n",
      "M\n",
      "<class 'mediapipe.python.solution_base.SolutionOutputs'>\n",
      "M\n",
      "<class 'mediapipe.python.solution_base.SolutionOutputs'>\n",
      "Y\n",
      "<class 'mediapipe.python.solution_base.SolutionOutputs'>\n",
      "Y\n",
      "<class 'mediapipe.python.solution_base.SolutionOutputs'>\n",
      "Y\n",
      "<class 'mediapipe.python.solution_base.SolutionOutputs'>\n",
      "Y\n",
      "<class 'mediapipe.python.solution_base.SolutionOutputs'>\n",
      "Y\n",
      "<class 'mediapipe.python.solution_base.SolutionOutputs'>\n",
      "Y\n",
      "<class 'mediapipe.python.solution_base.SolutionOutputs'>\n",
      "Y\n",
      "<class 'mediapipe.python.solution_base.SolutionOutputs'>\n",
      "Y\n",
      "<class 'mediapipe.python.solution_base.SolutionOutputs'>\n",
      "Y\n",
      "<class 'mediapipe.python.solution_base.SolutionOutputs'>\n",
      "Y\n",
      "<class 'mediapipe.python.solution_base.SolutionOutputs'>\n",
      "Y\n",
      "<class 'mediapipe.python.solution_base.SolutionOutputs'>\n",
      "Y\n",
      "<class 'mediapipe.python.solution_base.SolutionOutputs'>\n",
      "Y\n",
      "<class 'mediapipe.python.solution_base.SolutionOutputs'>\n",
      "Y\n",
      "<class 'mediapipe.python.solution_base.SolutionOutputs'>\n",
      "Y\n",
      "<class 'mediapipe.python.solution_base.SolutionOutputs'>\n",
      "Y\n",
      "<class 'mediapipe.python.solution_base.SolutionOutputs'>\n",
      "Y\n",
      "<class 'mediapipe.python.solution_base.SolutionOutputs'>\n",
      "Y\n",
      "<class 'mediapipe.python.solution_base.SolutionOutputs'>\n",
      "M\n",
      "<class 'mediapipe.python.solution_base.SolutionOutputs'>\n",
      "M\n",
      "<class 'mediapipe.python.solution_base.SolutionOutputs'>\n",
      "M\n",
      "<class 'mediapipe.python.solution_base.SolutionOutputs'>\n",
      "M\n",
      "<class 'mediapipe.python.solution_base.SolutionOutputs'>\n",
      "M\n",
      "<class 'mediapipe.python.solution_base.SolutionOutputs'>\n",
      "Y\n",
      "<class 'mediapipe.python.solution_base.SolutionOutputs'>\n",
      "Y\n",
      "<class 'mediapipe.python.solution_base.SolutionOutputs'>\n",
      "Y\n",
      "<class 'mediapipe.python.solution_base.SolutionOutputs'>\n",
      "Y\n",
      "<class 'mediapipe.python.solution_base.SolutionOutputs'>\n",
      "Y\n",
      "<class 'mediapipe.python.solution_base.SolutionOutputs'>\n",
      "Y\n",
      "<class 'mediapipe.python.solution_base.SolutionOutputs'>\n",
      "Y\n",
      "<class 'mediapipe.python.solution_base.SolutionOutputs'>\n",
      "Y\n",
      "<class 'mediapipe.python.solution_base.SolutionOutputs'>\n",
      "Y\n",
      "<class 'mediapipe.python.solution_base.SolutionOutputs'>\n",
      "Y\n",
      "<class 'mediapipe.python.solution_base.SolutionOutputs'>\n",
      "Y\n",
      "<class 'mediapipe.python.solution_base.SolutionOutputs'>\n",
      "Y\n",
      "<class 'mediapipe.python.solution_base.SolutionOutputs'>\n",
      "Y\n",
      "<class 'mediapipe.python.solution_base.SolutionOutputs'>\n",
      "Y\n",
      "<class 'mediapipe.python.solution_base.SolutionOutputs'>\n",
      "Y\n",
      "<class 'mediapipe.python.solution_base.SolutionOutputs'>\n",
      "Y\n",
      "<class 'mediapipe.python.solution_base.SolutionOutputs'>\n",
      "Y\n"
     ]
    }
   ],
   "source": [
    "# 1. New detection variables\n",
    "sequence = []\n",
    "sentence = []\n",
    "threshold = 0.8\n",
    "\n",
    "cap = cv2.VideoCapture(0)\n",
    "# Set mediapipe model \n",
    "with mp_holistic.Holistic(min_detection_confidence=0.5, min_tracking_confidence=0.5) as holistic:\n",
    "    while cap.isOpened():\n",
    "\n",
    "        # Read feed\n",
    "        ret, frame = cap.read()\n",
    "\n",
    "        # Make detections\n",
    "        image, results = mediapipe_detection(frame, holistic)\n",
    "        print(results)\n",
    "        \n",
    "        # Draw landmarks\n",
    "        draw_styled_landmarks(image, results)\n",
    "        \n",
    "        # 2. Prediction logic\n",
    "        keypoints = extract_keypoints(results)\n",
    "#         sequence.insert(0,keypoints)\n",
    "#         sequence = sequence[:30]\n",
    "        sequence.append(keypoints)\n",
    "        sequence = sequence[-30:]\n",
    "        \n",
    "        if len(sequence) == 30:\n",
    "            res = model02.predict(np.expand_dims(sequence, axis=0))[0]\n",
    "            print(actions[np.argmax(res)])\n",
    "            \n",
    "            \n",
    "        #3. Viz logic\n",
    "            if res[np.argmax(res)] > threshold: \n",
    "                if len(sentence) > 0: \n",
    "                    if actions[np.argmax(res)] != sentence[-1]:\n",
    "                        sentence.append(actions[np.argmax(res)])\n",
    "                else:\n",
    "                    sentence.append(actions[np.argmax(res)])\n",
    "\n",
    "            if len(sentence) > 10: \n",
    "                sentence = sentence[-10:]\n",
    "\n",
    "            # Viz probabilities\n",
    "            #image = prob_viz(res, demo_actions, image, colors)\n",
    "            \n",
    "        cv2.rectangle(image, (0,0), (640, 40), (245, 117, 16), -1)\n",
    "        cv2.putText(image, ' '.join(sentence), (3,30), \n",
    "                       cv2.FONT_HERSHEY_SIMPLEX, 1, (255, 255, 255), 2, cv2.LINE_AA)\n",
    "        \n",
    "        # Show to screen\n",
    "        cv2.imshow('OpenCV Feed', image)\n",
    "\n",
    "        # Break gracefully\n",
    "        if cv2.waitKey(10) & 0xFF == ord('q'):\n",
    "            break\n",
    "    cap.release()\n",
    "    cv2.destroyAllWindows()"
   ]
  },
  {
   "cell_type": "code",
   "execution_count": 45,
   "id": "3a547c62",
   "metadata": {},
   "outputs": [],
   "source": [
    "cv2.destroyAllWindows()"
   ]
  },
  {
   "cell_type": "code",
   "execution_count": 46,
   "id": "d5d37ee7",
   "metadata": {},
   "outputs": [],
   "source": [
    "cv2.destroyAllWindows()"
   ]
  },
  {
   "cell_type": "code",
   "execution_count": null,
   "id": "e65afa63",
   "metadata": {},
   "outputs": [],
   "source": []
  },
  {
   "cell_type": "code",
   "execution_count": null,
   "id": "6555b734",
   "metadata": {},
   "outputs": [],
   "source": []
  },
  {
   "cell_type": "code",
   "execution_count": null,
   "id": "5fd058f5",
   "metadata": {},
   "outputs": [],
   "source": []
  },
  {
   "cell_type": "code",
   "execution_count": null,
   "id": "7b41a8e9",
   "metadata": {},
   "outputs": [],
   "source": []
  }
 ],
 "metadata": {
  "kernelspec": {
   "display_name": "Python 3",
   "language": "python",
   "name": "python3"
  },
  "language_info": {
   "codemirror_mode": {
    "name": "ipython",
    "version": 3
   },
   "file_extension": ".py",
   "mimetype": "text/x-python",
   "name": "python",
   "nbconvert_exporter": "python",
   "pygments_lexer": "ipython3",
   "version": "3.8.8"
  }
 },
 "nbformat": 4,
 "nbformat_minor": 5
}
